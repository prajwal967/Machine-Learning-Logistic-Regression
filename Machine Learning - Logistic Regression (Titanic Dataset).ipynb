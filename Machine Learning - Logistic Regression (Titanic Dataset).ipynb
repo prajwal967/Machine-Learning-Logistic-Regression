{
 "cells": [
  {
   "cell_type": "code",
   "execution_count": 2,
   "metadata": {
    "collapsed": false
   },
   "outputs": [],
   "source": [
    "import pandas as pd\n",
    "import numpy as np\n",
    "import matplotlib.pyplot as plt\n",
    "from sklearn import datasets, linear_model, preprocessing\n",
    "from sklearn.preprocessing import Imputer, PolynomialFeatures\n"
   ]
  },
  {
   "cell_type": "code",
   "execution_count": 3,
   "metadata": {
    "collapsed": false,
    "scrolled": true
   },
   "outputs": [
    {
     "name": "stderr",
     "output_type": "stream",
     "text": [
      "/home/prajwal/anaconda3/lib/python3.5/site-packages/ipykernel/__main__.py:8: SettingWithCopyWarning: \n",
      "A value is trying to be set on a copy of a slice from a DataFrame\n",
      "\n",
      "See the caveats in the documentation: http://pandas.pydata.org/pandas-docs/stable/indexing.html#indexing-view-versus-copy\n",
      "/home/prajwal/anaconda3/lib/python3.5/site-packages/ipykernel/__main__.py:9: SettingWithCopyWarning: \n",
      "A value is trying to be set on a copy of a slice from a DataFrame\n",
      "\n",
      "See the caveats in the documentation: http://pandas.pydata.org/pandas-docs/stable/indexing.html#indexing-view-versus-copy\n",
      "/home/prajwal/anaconda3/lib/python3.5/site-packages/ipykernel/__main__.py:10: SettingWithCopyWarning: \n",
      "A value is trying to be set on a copy of a slice from a DataFrame\n",
      "\n",
      "See the caveats in the documentation: http://pandas.pydata.org/pandas-docs/stable/indexing.html#indexing-view-versus-copy\n",
      "/home/prajwal/anaconda3/lib/python3.5/site-packages/ipykernel/__main__.py:11: SettingWithCopyWarning: \n",
      "A value is trying to be set on a copy of a slice from a DataFrame\n",
      "\n",
      "See the caveats in the documentation: http://pandas.pydata.org/pandas-docs/stable/indexing.html#indexing-view-versus-copy\n"
     ]
    }
   ],
   "source": [
    "#Preprocessor\n",
    "le_sex = preprocessing.LabelEncoder()\n",
    "#Training Data\n",
    "training=pd.read_csv('/home/prajwal/Desktop/Machine Learning-Logistic Regression (Titanic Dataset)/train.csv')\n",
    "training_label=training[[1]]\n",
    "training.drop(['Name', 'PassengerId', 'Ticket', 'Cabin','Survived'], axis=1, inplace=True)\n",
    "training.Sex = le_sex.fit_transform(training.Sex)\n",
    "training['Embarked'][(training['Embarked'] == 'S')] = 0\n",
    "training['Embarked'][(training['Embarked'] == 'C')] = 1\n",
    "training['Embarked'][(training['Embarked'] == 'Q')] = 2\n",
    "training['Embarked'][(training['Embarked'].isnull())] = 3\n",
    "imp = Imputer(missing_values='NaN', strategy='mean', axis=0)\n",
    "imp.fit(training)\n",
    "training = imp.transform(training)\n",
    "#training=preprocessing.normailze(training, norm='l2')\n",
    "#poly = PolynomialFeatures(1)\n",
    "#training=poly.fit_transform(training)"
   ]
  },
  {
   "cell_type": "code",
   "execution_count": 5,
   "metadata": {
    "collapsed": false
   },
   "outputs": [
    {
     "name": "stderr",
     "output_type": "stream",
     "text": [
      "/home/prajwal/anaconda3/lib/python3.5/site-packages/ipykernel/__main__.py:8: SettingWithCopyWarning: \n",
      "A value is trying to be set on a copy of a slice from a DataFrame\n",
      "\n",
      "See the caveats in the documentation: http://pandas.pydata.org/pandas-docs/stable/indexing.html#indexing-view-versus-copy\n",
      "/home/prajwal/anaconda3/lib/python3.5/site-packages/ipykernel/__main__.py:9: SettingWithCopyWarning: \n",
      "A value is trying to be set on a copy of a slice from a DataFrame\n",
      "\n",
      "See the caveats in the documentation: http://pandas.pydata.org/pandas-docs/stable/indexing.html#indexing-view-versus-copy\n",
      "/home/prajwal/anaconda3/lib/python3.5/site-packages/ipykernel/__main__.py:10: SettingWithCopyWarning: \n",
      "A value is trying to be set on a copy of a slice from a DataFrame\n",
      "\n",
      "See the caveats in the documentation: http://pandas.pydata.org/pandas-docs/stable/indexing.html#indexing-view-versus-copy\n",
      "/home/prajwal/anaconda3/lib/python3.5/site-packages/ipykernel/__main__.py:11: SettingWithCopyWarning: \n",
      "A value is trying to be set on a copy of a slice from a DataFrame\n",
      "\n",
      "See the caveats in the documentation: http://pandas.pydata.org/pandas-docs/stable/indexing.html#indexing-view-versus-copy\n"
     ]
    }
   ],
   "source": [
    "#Test Data\n",
    "test=pd.read_csv('/home/prajwal/Desktop/Machine Learning-Logistic Regression (Titanic Dataset)/test.csv')\n",
    "test_label=pd.read_csv('/home/prajwal/Desktop/Machine Learning-Logistic Regression (Titanic Dataset)/genderclassmodel.csv')\n",
    "test_label=test_label['Survived']\n",
    "test.drop(['Name', 'PassengerId', 'Ticket', 'Cabin'], axis=1, inplace=True)\n",
    "#test.Name=le_sex.fit_transform(test.Name)\n",
    "test.Sex = le_sex.fit_transform(test.Sex)\n",
    "test['Embarked'][(test['Embarked'] == 'S')] = 0\n",
    "test['Embarked'][(test['Embarked'] == 'C')] = 1\n",
    "test['Embarked'][(test['Embarked'] == 'Q')] = 2\n",
    "test['Embarked'][(test['Embarked'].isnull())] = 3\n",
    "imp = Imputer(missing_values='NaN', strategy='mean', axis=0)\n",
    "imp.fit(test)\n",
    "test = imp.transform(test)\n",
    "#test=preprocessing.normalize(test, norm='l2')\n",
    "#poly = PolynomialFeatures(1)\n",
    "#test=poly.fit_transform(test)"
   ]
  },
  {
   "cell_type": "code",
   "execution_count": 7,
   "metadata": {
    "collapsed": false
   },
   "outputs": [
    {
     "name": "stdout",
     "output_type": "stream",
     "text": [
      "Coefficients: \n",
      " [[-0.629177   -2.22193042 -0.02004316 -0.261327   -0.0507585   0.00685102\n",
      "   0.26261477]]\n",
      "Residual sum of squares:  0.045454545454545456\n",
      "Variance score:  0.954545454545\n"
     ]
    },
    {
     "name": "stderr",
     "output_type": "stream",
     "text": [
      "/home/prajwal/anaconda3/lib/python3.5/site-packages/sklearn/utils/validation.py:515: DataConversionWarning: A column-vector y was passed when a 1d array was expected. Please change the shape of y to (n_samples, ), for example using ravel().\n",
      "  y = column_or_1d(y, warn=True)\n"
     ]
    }
   ],
   "source": [
    "regr = linear_model.LogisticRegressionCV(solver='liblinear')\n",
    "regr.fit(training,training_label)\n",
    "# The coefficients\n",
    "print('Coefficients: \\n', regr.coef_)\n",
    "# The mean square error\n",
    "print(\"Residual sum of squares: \",np.mean((regr.predict(test) - test_label) ** 2))\n",
    "# Explained variance score: 1 is perfect prediction\n",
    "print('Variance score: ',regr.score(test, test_label))"
   ]
  },
  {
   "cell_type": "code",
   "execution_count": 8,
   "metadata": {
    "collapsed": false,
    "scrolled": false
   },
   "outputs": [],
   "source": [
    "#plt.plot(range(0,418),sorted((regr.predict(test)-test_label),reverse=True))\n",
    "#plt.plot(range(0,891),sorted((regr.predict(training) - training_label.Survived),reverse=True))\n",
    "#plt.show()"
   ]
  },
  {
   "cell_type": "code",
   "execution_count": null,
   "metadata": {
    "collapsed": true
   },
   "outputs": [],
   "source": []
  }
 ],
 "metadata": {
  "kernelspec": {
   "display_name": "Python 3",
   "language": "python",
   "name": "python3"
  },
  "language_info": {
   "codemirror_mode": {
    "name": "ipython",
    "version": 3
   },
   "file_extension": ".py",
   "mimetype": "text/x-python",
   "name": "python",
   "nbconvert_exporter": "python",
   "pygments_lexer": "ipython3",
   "version": "3.5.1"
  }
 },
 "nbformat": 4,
 "nbformat_minor": 0
}
