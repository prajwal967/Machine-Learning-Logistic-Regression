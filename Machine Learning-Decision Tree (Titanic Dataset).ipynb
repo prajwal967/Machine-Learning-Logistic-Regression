{
 "cells": [
  {
   "cell_type": "code",
   "execution_count": 27,
   "metadata": {
    "collapsed": true
   },
   "outputs": [],
   "source": [
    "import pandas as pd\n",
    "import numpy as np\n",
    "import matplotlib.pyplot as plt\n",
    "from sklearn import datasets, linear_model, preprocessing\n",
    "from sklearn.preprocessing import Imputer, PolynomialFeatures\n",
    "from sklearn.tree import DecisionTreeClassifier\n"
   ]
  },
  {
   "cell_type": "code",
   "execution_count": 28,
   "metadata": {
    "collapsed": false
   },
   "outputs": [
    {
     "name": "stderr",
     "output_type": "stream",
     "text": [
      "/home/prajwal/anaconda3/lib/python3.5/site-packages/ipykernel/__main__.py:8: SettingWithCopyWarning: \n",
      "A value is trying to be set on a copy of a slice from a DataFrame\n",
      "\n",
      "See the caveats in the documentation: http://pandas.pydata.org/pandas-docs/stable/indexing.html#indexing-view-versus-copy\n",
      "/home/prajwal/anaconda3/lib/python3.5/site-packages/ipykernel/__main__.py:9: SettingWithCopyWarning: \n",
      "A value is trying to be set on a copy of a slice from a DataFrame\n",
      "\n",
      "See the caveats in the documentation: http://pandas.pydata.org/pandas-docs/stable/indexing.html#indexing-view-versus-copy\n",
      "/home/prajwal/anaconda3/lib/python3.5/site-packages/ipykernel/__main__.py:10: SettingWithCopyWarning: \n",
      "A value is trying to be set on a copy of a slice from a DataFrame\n",
      "\n",
      "See the caveats in the documentation: http://pandas.pydata.org/pandas-docs/stable/indexing.html#indexing-view-versus-copy\n",
      "/home/prajwal/anaconda3/lib/python3.5/site-packages/ipykernel/__main__.py:11: SettingWithCopyWarning: \n",
      "A value is trying to be set on a copy of a slice from a DataFrame\n",
      "\n",
      "See the caveats in the documentation: http://pandas.pydata.org/pandas-docs/stable/indexing.html#indexing-view-versus-copy\n"
     ]
    }
   ],
   "source": [
    "#Preprocessor\n",
    "le_sex = preprocessing.LabelEncoder()\n",
    "#Training Data\n",
    "training=pd.read_csv('/home/prajwal/Desktop/Machine-Learning-Logistic-Regression/train.csv')\n",
    "training_label=training[[1]]\n",
    "training.drop(['Name', 'PassengerId', 'Ticket', 'Cabin','Survived'], axis=1, inplace=True)\n",
    "training.Sex = le_sex.fit_transform(training.Sex)\n",
    "training['Embarked'][(training['Embarked'] == 'S')] = 0\n",
    "training['Embarked'][(training['Embarked'] == 'C')] = 1\n",
    "training['Embarked'][(training['Embarked'] == 'Q')] = 2\n",
    "training['Embarked'][(training['Embarked'].isnull())] = 3\n",
    "imp = Imputer(missing_values='NaN', strategy='mean', axis=0)\n",
    "imp.fit(training)\n",
    "training = imp.transform(training)\n",
    "#scale=preprocessing.MinMaxScaler()\n",
    "#training=scale.fit_transform(training)\n",
    "#poly = PolynomialFeatures(1)\n",
    "#training=poly.fit_transform(training)"
   ]
  },
  {
   "cell_type": "code",
   "execution_count": 29,
   "metadata": {
    "collapsed": false
   },
   "outputs": [
    {
     "name": "stderr",
     "output_type": "stream",
     "text": [
      "/home/prajwal/anaconda3/lib/python3.5/site-packages/ipykernel/__main__.py:8: SettingWithCopyWarning: \n",
      "A value is trying to be set on a copy of a slice from a DataFrame\n",
      "\n",
      "See the caveats in the documentation: http://pandas.pydata.org/pandas-docs/stable/indexing.html#indexing-view-versus-copy\n",
      "/home/prajwal/anaconda3/lib/python3.5/site-packages/ipykernel/__main__.py:9: SettingWithCopyWarning: \n",
      "A value is trying to be set on a copy of a slice from a DataFrame\n",
      "\n",
      "See the caveats in the documentation: http://pandas.pydata.org/pandas-docs/stable/indexing.html#indexing-view-versus-copy\n",
      "/home/prajwal/anaconda3/lib/python3.5/site-packages/ipykernel/__main__.py:10: SettingWithCopyWarning: \n",
      "A value is trying to be set on a copy of a slice from a DataFrame\n",
      "\n",
      "See the caveats in the documentation: http://pandas.pydata.org/pandas-docs/stable/indexing.html#indexing-view-versus-copy\n",
      "/home/prajwal/anaconda3/lib/python3.5/site-packages/ipykernel/__main__.py:11: SettingWithCopyWarning: \n",
      "A value is trying to be set on a copy of a slice from a DataFrame\n",
      "\n",
      "See the caveats in the documentation: http://pandas.pydata.org/pandas-docs/stable/indexing.html#indexing-view-versus-copy\n"
     ]
    }
   ],
   "source": [
    "#Test Data\n",
    "test=pd.read_csv('/home/prajwal/Desktop/Machine-Learning-Logistic-Regression/test.csv')\n",
    "test_label=pd.read_csv('/home/prajwal/Desktop/Machine-Learning-Logistic-Regression/genderclassmodel.csv')\n",
    "test_label=test_label['Survived']\n",
    "test.drop(['Name', 'PassengerId', 'Ticket', 'Cabin'], axis=1, inplace=True)\n",
    "#test.Name=le_sex.fit_transform(test.Name)\n",
    "test.Sex = le_sex.fit_transform(test.Sex)\n",
    "test['Embarked'][(test['Embarked'] == 'S')] = 0\n",
    "test['Embarked'][(test['Embarked'] == 'C')] = 1\n",
    "test['Embarked'][(test['Embarked'] == 'Q')] = 2\n",
    "test['Embarked'][(test['Embarked'].isnull())] = 3\n",
    "test = imp.transform(test)\n",
    "#scale=preprocessing.MinMaxScaler()\n",
    "#test=scale.fit_transform(test)\n",
    "#poly = PolynomialFeatures(1)\n",
    "#test=poly.fit_transform(test)"
   ]
  },
  {
   "cell_type": "code",
   "execution_count": 30,
   "metadata": {
    "collapsed": false
   },
   "outputs": [
    {
     "name": "stdout",
     "output_type": "stream",
     "text": [
      "Residual sum of squares:  0.19617224880382775\n",
      "Variance score:  0.803827751196\n"
     ]
    }
   ],
   "source": [
    "regr = DecisionTreeClassifier()\n",
    "regr.fit(training,training_label)\n",
    "# The mean square error\n",
    "print(\"Residual sum of squares: \",np.mean((regr.predict(test) - test_label) ** 2))\n",
    "# Explained variance score: 1 is perfect prediction\n",
    "print('Variance score: ',regr.score(test, test_label))"
   ]
  },
  {
   "cell_type": "code",
   "execution_count": null,
   "metadata": {
    "collapsed": true
   },
   "outputs": [],
   "source": []
  }
 ],
 "metadata": {
  "kernelspec": {
   "display_name": "Python 3",
   "language": "python",
   "name": "python3"
  },
  "language_info": {
   "codemirror_mode": {
    "name": "ipython",
    "version": 3
   },
   "file_extension": ".py",
   "mimetype": "text/x-python",
   "name": "python",
   "nbconvert_exporter": "python",
   "pygments_lexer": "ipython3",
   "version": "3.5.1"
  }
 },
 "nbformat": 4,
 "nbformat_minor": 0
}
